{
 "cells": [
  {
   "cell_type": "code",
   "execution_count": null,
   "metadata": {},
   "outputs": [],
   "source": [
    "import asyncio\n",
    "import aiohttp\n",
    "from asyncio_throttle import Throttler\n",
    "import os\n",
    "import dotenv\n",
    "import pandas as pd\n",
    "import logging"
   ]
  },
  {
   "cell_type": "code",
   "execution_count": null,
   "metadata": {},
   "outputs": [],
   "source": [
    "\n",
    "logger = logging.getLogger(__name__)\n",
    "\n",
    "file_handler = logging.FileHandler('log.txt')\n",
    "file_handler.setFormatter(logging.Formatter('%(asctime)s %(levelname)s %(message)s'))\n",
    "\n",
    "logger.addHandler(file_handler)"
   ]
  },
  {
   "cell_type": "code",
   "execution_count": null,
   "metadata": {},
   "outputs": [],
   "source": [
    "%load_ext dotenv\n",
    "%dotenv keys.env\n",
    "\n",
    "\n",
    "api_key = os.getenv('bibsKey')\n",
    "\n",
    "\n",
    "headers = {\n",
    "    \"Authorization\": f\"apikey {api_key}\",\n",
    "    \"Accept\": \"application/json\",\n",
    "}\n"
   ]
  },
  {
   "cell_type": "code",
   "execution_count": null,
   "metadata": {},
   "outputs": [],
   "source": [
    "# made to work off of report output from the physical items subject area in analytics.\n",
    "# required columns are Holding Id, MMS ID, and Physical Item ID (PID).\n",
    "\n",
    "bibs = pd.read_csv('bibs.csv')  "
   ]
  },
  {
   "cell_type": "code",
   "execution_count": null,
   "metadata": {},
   "outputs": [],
   "source": [
    "async def gather_tasks(urls, headers=None):\n",
    "    \"\"\"Makes a GET call to each URL in the specified list, then makes a PUT call to the same URL after changing something about the object that was received in the GET.\"\"\"\n",
    "    throttler = Throttler(rate_limit=20)\n",
    "    # Create a list of tasks\n",
    "    tasks = []\n",
    "    for url in urls:\n",
    "        task = asyncio.create_task(make_calls(url, headers=headers, throttler=throttler))\n",
    "        tasks.append(task)\n",
    "\n",
    "    # Wait for all of the tasks to finish\n",
    "    await asyncio.gather(*tasks)\n"
   ]
  },
  {
   "cell_type": "code",
   "execution_count": null,
   "metadata": {},
   "outputs": [],
   "source": [
    "async def make_calls(url, headers=None, throttler=None):\n",
    "    \"\"\"Makes a GET call to the specified URL, then makes a PUT call to the same URL after changing something about the object that was received in the GET.\"\"\"\n",
    "\n",
    "    async with throttler:\n",
    "        # Make the GET call\n",
    "        try:\n",
    "            async with aiohttp.ClientSession() as session:\n",
    "                response = await session.get(url, headers=headers)\n",
    "\n",
    "                # pull item object\n",
    "                object = await response.json()\n",
    "\n",
    "                # Map inventory price to replacement cost\n",
    "\n",
    "                inv_cost = object['item_data'][\"inventory_price\"]\n",
    "\n",
    "                object['item_data'][\"replacement_cost\"] = inv_cost\n",
    "\n",
    "                title = object['bib_data']['title']\n",
    "                barcode = object['item_data']['barcode']\n",
    "\n",
    "\n",
    "            put_headers = {\n",
    "                'Content-Type': 'application/json',\n",
    "                'Authorization': f'apikey {api_key}',\n",
    "\n",
    "            }\n",
    "            # Make the PUT call\n",
    "            async with throttler:\n",
    "                async with aiohttp.ClientSession() as session:\n",
    "                    put_response = await session.put(url, json=object, headers=put_headers)\n",
    "            if put_response.status == 200:\n",
    "                print(f'Updated {title} and {barcode}. Inventory cost was {inv_cost}, replacement cost is now {object[\"item_data\"][\"replacement_cost\"]}.')\n",
    "\n",
    "        except Exception as e:\n",
    "            logger.error(f'{e} for {url}')"
   ]
  },
  {
   "cell_type": "code",
   "execution_count": null,
   "metadata": {},
   "outputs": [],
   "source": [
    "# Creates the URL endpoints needed to make citation requests.\n",
    "def build_url(df):  \n",
    "\n",
    "    a = []\n",
    "\n",
    "\n",
    "    for index, row in df.iterrows():\n",
    "        mms_id, holding_id, item_pid = (\n",
    "            row[\"MMS Id\"],\n",
    "            row[\"Holding Id\"],\n",
    "            row[\"Physical Item Id\"],\n",
    "        )\n",
    "\n",
    "        url = f\"https://api-na.hosted.exlibrisgroup.com/almaws/v1/bibs/{mms_id}/holdings/{holding_id}/items/{item_pid}\"\n",
    "\n",
    "        a.append(url)\n",
    "\n",
    "    return a"
   ]
  },
  {
   "cell_type": "code",
   "execution_count": null,
   "metadata": {},
   "outputs": [],
   "source": [
    "urls = build_url(bibs)"
   ]
  },
  {
   "cell_type": "code",
   "execution_count": null,
   "metadata": {},
   "outputs": [],
   "source": [
    "await gather_tasks(urls, headers=headers)"
   ]
  }
 ],
 "metadata": {
  "kernelspec": {
   "display_name": "Python 3",
   "language": "python",
   "name": "python3"
  },
  "language_info": {
   "codemirror_mode": {
    "name": "ipython",
    "version": 3
   },
   "file_extension": ".py",
   "mimetype": "text/x-python",
   "name": "python",
   "nbconvert_exporter": "python",
   "pygments_lexer": "ipython3",
   "version": "3.11.4"
  },
  "orig_nbformat": 4
 },
 "nbformat": 4,
 "nbformat_minor": 2
}
